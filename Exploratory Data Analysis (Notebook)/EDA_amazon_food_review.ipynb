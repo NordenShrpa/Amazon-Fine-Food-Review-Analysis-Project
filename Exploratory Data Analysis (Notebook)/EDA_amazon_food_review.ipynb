{
 "cells": [
  {
   "cell_type": "code",
   "execution_count": 1,
   "id": "36f3c699-920a-4fd5-a3b3-511bcf3f3de5",
   "metadata": {},
   "outputs": [],
   "source": [
    "import numpy as np \n",
    "import pandas as pd \n",
    "import matplotlib.pyplot as plt \n",
    "import seaborn as sns\n",
    "%matplotlib inline"
   ]
  },
  {
   "cell_type": "code",
   "execution_count": null,
   "id": "bf9c56c5-6bc7-4a9b-9004-53f06fe5fa21",
   "metadata": {},
   "outputs": [
    {
     "name": "stdout",
     "output_type": "stream",
     "text": [
      "no. of rows, no.cols:  (568454, 10)\n"
     ]
    },
    {
     "data": {
      "text/html": [
       "<div>\n",
       "<style scoped>\n",
       "    .dataframe tbody tr th:only-of-type {\n",
       "        vertical-align: middle;\n",
       "    }\n",
       "\n",
       "    .dataframe tbody tr th {\n",
       "        vertical-align: top;\n",
       "    }\n",
       "\n",
       "    .dataframe thead th {\n",
       "        text-align: right;\n",
       "    }\n",
       "</style>\n",
       "<table border=\"1\" class=\"dataframe\">\n",
       "  <thead>\n",
       "    <tr style=\"text-align: right;\">\n",
       "      <th></th>\n",
       "      <th>Id</th>\n",
       "      <th>ProductId</th>\n",
       "      <th>UserId</th>\n",
       "      <th>ProfileName</th>\n",
       "      <th>HelpfulnessNumerator</th>\n",
       "      <th>HelpfulnessDenominator</th>\n",
       "      <th>Score</th>\n",
       "      <th>Time</th>\n",
       "      <th>Summary</th>\n",
       "      <th>Text</th>\n",
       "    </tr>\n",
       "  </thead>\n",
       "  <tbody>\n",
       "    <tr>\n",
       "      <th>0</th>\n",
       "      <td>1</td>\n",
       "      <td>B001E4KFG0</td>\n",
       "      <td>A3SGXH7AUHU8GW</td>\n",
       "      <td>delmartian</td>\n",
       "      <td>1</td>\n",
       "      <td>1</td>\n",
       "      <td>5</td>\n",
       "      <td>1303862400</td>\n",
       "      <td>Good Quality Dog Food</td>\n",
       "      <td>I have bought several of the Vitality canned d...</td>\n",
       "    </tr>\n",
       "    <tr>\n",
       "      <th>1</th>\n",
       "      <td>2</td>\n",
       "      <td>B00813GRG4</td>\n",
       "      <td>A1D87F6ZCVE5NK</td>\n",
       "      <td>dll pa</td>\n",
       "      <td>0</td>\n",
       "      <td>0</td>\n",
       "      <td>1</td>\n",
       "      <td>1346976000</td>\n",
       "      <td>Not as Advertised</td>\n",
       "      <td>Product arrived labeled as Jumbo Salted Peanut...</td>\n",
       "    </tr>\n",
       "    <tr>\n",
       "      <th>2</th>\n",
       "      <td>3</td>\n",
       "      <td>B000LQOCH0</td>\n",
       "      <td>ABXLMWJIXXAIN</td>\n",
       "      <td>Natalia Corres \"Natalia Corres\"</td>\n",
       "      <td>1</td>\n",
       "      <td>1</td>\n",
       "      <td>4</td>\n",
       "      <td>1219017600</td>\n",
       "      <td>\"Delight\" says it all</td>\n",
       "      <td>This is a confection that has been around a fe...</td>\n",
       "    </tr>\n",
       "    <tr>\n",
       "      <th>3</th>\n",
       "      <td>4</td>\n",
       "      <td>B000UA0QIQ</td>\n",
       "      <td>A395BORC6FGVXV</td>\n",
       "      <td>Karl</td>\n",
       "      <td>3</td>\n",
       "      <td>3</td>\n",
       "      <td>2</td>\n",
       "      <td>1307923200</td>\n",
       "      <td>Cough Medicine</td>\n",
       "      <td>If you are looking for the secret ingredient i...</td>\n",
       "    </tr>\n",
       "    <tr>\n",
       "      <th>4</th>\n",
       "      <td>5</td>\n",
       "      <td>B006K2ZZ7K</td>\n",
       "      <td>A1UQRSCLF8GW1T</td>\n",
       "      <td>Michael D. Bigham \"M. Wassir\"</td>\n",
       "      <td>0</td>\n",
       "      <td>0</td>\n",
       "      <td>5</td>\n",
       "      <td>1350777600</td>\n",
       "      <td>Great taffy</td>\n",
       "      <td>Great taffy at a great price.  There was a wid...</td>\n",
       "    </tr>\n",
       "  </tbody>\n",
       "</table>\n",
       "</div>"
      ],
      "text/plain": [
       "   Id   ProductId          UserId                      ProfileName  \\\n",
       "0   1  B001E4KFG0  A3SGXH7AUHU8GW                       delmartian   \n",
       "1   2  B00813GRG4  A1D87F6ZCVE5NK                           dll pa   \n",
       "2   3  B000LQOCH0   ABXLMWJIXXAIN  Natalia Corres \"Natalia Corres\"   \n",
       "3   4  B000UA0QIQ  A395BORC6FGVXV                             Karl   \n",
       "4   5  B006K2ZZ7K  A1UQRSCLF8GW1T    Michael D. Bigham \"M. Wassir\"   \n",
       "\n",
       "   HelpfulnessNumerator  HelpfulnessDenominator  Score        Time  \\\n",
       "0                     1                       1      5  1303862400   \n",
       "1                     0                       0      1  1346976000   \n",
       "2                     1                       1      4  1219017600   \n",
       "3                     3                       3      2  1307923200   \n",
       "4                     0                       0      5  1350777600   \n",
       "\n",
       "                 Summary                                               Text  \n",
       "0  Good Quality Dog Food  I have bought several of the Vitality canned d...  \n",
       "1      Not as Advertised  Product arrived labeled as Jumbo Salted Peanut...  \n",
       "2  \"Delight\" says it all  This is a confection that has been around a fe...  \n",
       "3         Cough Medicine  If you are looking for the secret ingredient i...  \n",
       "4            Great taffy  Great taffy at a great price.  There was a wid...  "
      ]
     },
     "execution_count": 2,
     "metadata": {},
     "output_type": "execute_result"
    }
   ],
   "source": [
    "data_file = pd.read_csv(\"../Amazon Fine Food ML Project/Data/Reviews.csv\") # change the file path as needed\n",
    "print(\"no. of rows, no.cols: \",data_file.shape)\n",
    "data_file.head()"
   ]
  },
  {
   "cell_type": "code",
   "execution_count": 5,
   "id": "57bf7c1a-c511-456d-a53b-94c94f5649e7",
   "metadata": {},
   "outputs": [
    {
     "data": {
      "text/html": [
       "<div>\n",
       "<style scoped>\n",
       "    .dataframe tbody tr th:only-of-type {\n",
       "        vertical-align: middle;\n",
       "    }\n",
       "\n",
       "    .dataframe tbody tr th {\n",
       "        vertical-align: top;\n",
       "    }\n",
       "\n",
       "    .dataframe thead th {\n",
       "        text-align: right;\n",
       "    }\n",
       "</style>\n",
       "<table border=\"1\" class=\"dataframe\">\n",
       "  <thead>\n",
       "    <tr style=\"text-align: right;\">\n",
       "      <th></th>\n",
       "      <th>ProductId</th>\n",
       "      <th>UserId</th>\n",
       "      <th>ProfileName</th>\n",
       "      <th>HelpfulnessNumerator</th>\n",
       "      <th>HelpfulnessDenominator</th>\n",
       "      <th>Score</th>\n",
       "      <th>Time</th>\n",
       "      <th>Summary</th>\n",
       "      <th>Text</th>\n",
       "    </tr>\n",
       "  </thead>\n",
       "  <tbody>\n",
       "    <tr>\n",
       "      <th>568449</th>\n",
       "      <td>B001EO7N10</td>\n",
       "      <td>A28KG5XORO54AY</td>\n",
       "      <td>Lettie D. Carter</td>\n",
       "      <td>0</td>\n",
       "      <td>0</td>\n",
       "      <td>5</td>\n",
       "      <td>1299628800</td>\n",
       "      <td>Will not do without</td>\n",
       "      <td>Great for sesame chicken..this is a good if no...</td>\n",
       "    </tr>\n",
       "    <tr>\n",
       "      <th>568450</th>\n",
       "      <td>B003S1WTCU</td>\n",
       "      <td>A3I8AFVPEE8KI5</td>\n",
       "      <td>R. Sawyer</td>\n",
       "      <td>0</td>\n",
       "      <td>0</td>\n",
       "      <td>2</td>\n",
       "      <td>1331251200</td>\n",
       "      <td>disappointed</td>\n",
       "      <td>I'm disappointed with the flavor. The chocolat...</td>\n",
       "    </tr>\n",
       "    <tr>\n",
       "      <th>568451</th>\n",
       "      <td>B004I613EE</td>\n",
       "      <td>A121AA1GQV751Z</td>\n",
       "      <td>pksd \"pk_007\"</td>\n",
       "      <td>2</td>\n",
       "      <td>2</td>\n",
       "      <td>5</td>\n",
       "      <td>1329782400</td>\n",
       "      <td>Perfect for our maltipoo</td>\n",
       "      <td>These stars are small, so you can give 10-15 o...</td>\n",
       "    </tr>\n",
       "    <tr>\n",
       "      <th>568452</th>\n",
       "      <td>B004I613EE</td>\n",
       "      <td>A3IBEVCTXKNOH</td>\n",
       "      <td>Kathy A. Welch \"katwel\"</td>\n",
       "      <td>1</td>\n",
       "      <td>1</td>\n",
       "      <td>5</td>\n",
       "      <td>1331596800</td>\n",
       "      <td>Favorite Training and reward treat</td>\n",
       "      <td>These are the BEST treats for training and rew...</td>\n",
       "    </tr>\n",
       "    <tr>\n",
       "      <th>568453</th>\n",
       "      <td>B001LR2CU2</td>\n",
       "      <td>A3LGQPJCZVL9UC</td>\n",
       "      <td>srfell17</td>\n",
       "      <td>0</td>\n",
       "      <td>0</td>\n",
       "      <td>5</td>\n",
       "      <td>1338422400</td>\n",
       "      <td>Great Honey</td>\n",
       "      <td>I am very satisfied ,product is as advertised,...</td>\n",
       "    </tr>\n",
       "  </tbody>\n",
       "</table>\n",
       "</div>"
      ],
      "text/plain": [
       "         ProductId          UserId              ProfileName  \\\n",
       "568449  B001EO7N10  A28KG5XORO54AY         Lettie D. Carter   \n",
       "568450  B003S1WTCU  A3I8AFVPEE8KI5                R. Sawyer   \n",
       "568451  B004I613EE  A121AA1GQV751Z            pksd \"pk_007\"   \n",
       "568452  B004I613EE   A3IBEVCTXKNOH  Kathy A. Welch \"katwel\"   \n",
       "568453  B001LR2CU2  A3LGQPJCZVL9UC                 srfell17   \n",
       "\n",
       "        HelpfulnessNumerator  HelpfulnessDenominator  Score        Time  \\\n",
       "568449                     0                       0      5  1299628800   \n",
       "568450                     0                       0      2  1331251200   \n",
       "568451                     2                       2      5  1329782400   \n",
       "568452                     1                       1      5  1331596800   \n",
       "568453                     0                       0      5  1338422400   \n",
       "\n",
       "                                   Summary  \\\n",
       "568449                 Will not do without   \n",
       "568450                        disappointed   \n",
       "568451            Perfect for our maltipoo   \n",
       "568452  Favorite Training and reward treat   \n",
       "568453                         Great Honey   \n",
       "\n",
       "                                                     Text  \n",
       "568449  Great for sesame chicken..this is a good if no...  \n",
       "568450  I'm disappointed with the flavor. The chocolat...  \n",
       "568451  These stars are small, so you can give 10-15 o...  \n",
       "568452  These are the BEST treats for training and rew...  \n",
       "568453  I am very satisfied ,product is as advertised,...  "
      ]
     },
     "execution_count": 5,
     "metadata": {},
     "output_type": "execute_result"
    }
   ],
   "source": [
    "data_file.drop([\"Id\"], axis=1, inplace=True)\n",
    "data_file.tail()"
   ]
  },
  {
   "cell_type": "code",
   "execution_count": 7,
   "id": "fed8be61-7ff8-4516-89ba-725574fd9463",
   "metadata": {},
   "outputs": [
    {
     "name": "stdout",
     "output_type": "stream",
     "text": [
      "<class 'pandas.core.frame.DataFrame'>\n",
      "RangeIndex: 568454 entries, 0 to 568453\n",
      "Data columns (total 9 columns):\n",
      " #   Column                  Non-Null Count   Dtype \n",
      "---  ------                  --------------   ----- \n",
      " 0   ProductId               568454 non-null  object\n",
      " 1   UserId                  568454 non-null  object\n",
      " 2   ProfileName             568428 non-null  object\n",
      " 3   HelpfulnessNumerator    568454 non-null  int64 \n",
      " 4   HelpfulnessDenominator  568454 non-null  int64 \n",
      " 5   Score                   568454 non-null  int64 \n",
      " 6   Time                    568454 non-null  int64 \n",
      " 7   Summary                 568427 non-null  object\n",
      " 8   Text                    568454 non-null  object\n",
      "dtypes: int64(4), object(5)\n",
      "memory usage: 39.0+ MB\n"
     ]
    }
   ],
   "source": [
    "data_file.info()"
   ]
  },
  {
   "cell_type": "code",
   "execution_count": 9,
   "id": "ef5652bc-4179-4c91-9c81-eec6841fae1f",
   "metadata": {},
   "outputs": [
    {
     "data": {
      "text/html": [
       "<div>\n",
       "<style scoped>\n",
       "    .dataframe tbody tr th:only-of-type {\n",
       "        vertical-align: middle;\n",
       "    }\n",
       "\n",
       "    .dataframe tbody tr th {\n",
       "        vertical-align: top;\n",
       "    }\n",
       "\n",
       "    .dataframe thead th {\n",
       "        text-align: right;\n",
       "    }\n",
       "</style>\n",
       "<table border=\"1\" class=\"dataframe\">\n",
       "  <thead>\n",
       "    <tr style=\"text-align: right;\">\n",
       "      <th></th>\n",
       "      <th>HelpfulnessNumerator</th>\n",
       "      <th>HelpfulnessDenominator</th>\n",
       "      <th>Score</th>\n",
       "      <th>Time</th>\n",
       "    </tr>\n",
       "  </thead>\n",
       "  <tbody>\n",
       "    <tr>\n",
       "      <th>count</th>\n",
       "      <td>568454.000000</td>\n",
       "      <td>568454.00000</td>\n",
       "      <td>568454.000000</td>\n",
       "      <td>5.684540e+05</td>\n",
       "    </tr>\n",
       "    <tr>\n",
       "      <th>mean</th>\n",
       "      <td>1.743817</td>\n",
       "      <td>2.22881</td>\n",
       "      <td>4.183199</td>\n",
       "      <td>1.296257e+09</td>\n",
       "    </tr>\n",
       "    <tr>\n",
       "      <th>std</th>\n",
       "      <td>7.636513</td>\n",
       "      <td>8.28974</td>\n",
       "      <td>1.310436</td>\n",
       "      <td>4.804331e+07</td>\n",
       "    </tr>\n",
       "    <tr>\n",
       "      <th>min</th>\n",
       "      <td>0.000000</td>\n",
       "      <td>0.00000</td>\n",
       "      <td>1.000000</td>\n",
       "      <td>9.393408e+08</td>\n",
       "    </tr>\n",
       "    <tr>\n",
       "      <th>25%</th>\n",
       "      <td>0.000000</td>\n",
       "      <td>0.00000</td>\n",
       "      <td>4.000000</td>\n",
       "      <td>1.271290e+09</td>\n",
       "    </tr>\n",
       "    <tr>\n",
       "      <th>50%</th>\n",
       "      <td>0.000000</td>\n",
       "      <td>1.00000</td>\n",
       "      <td>5.000000</td>\n",
       "      <td>1.311120e+09</td>\n",
       "    </tr>\n",
       "    <tr>\n",
       "      <th>75%</th>\n",
       "      <td>2.000000</td>\n",
       "      <td>2.00000</td>\n",
       "      <td>5.000000</td>\n",
       "      <td>1.332720e+09</td>\n",
       "    </tr>\n",
       "    <tr>\n",
       "      <th>max</th>\n",
       "      <td>866.000000</td>\n",
       "      <td>923.00000</td>\n",
       "      <td>5.000000</td>\n",
       "      <td>1.351210e+09</td>\n",
       "    </tr>\n",
       "  </tbody>\n",
       "</table>\n",
       "</div>"
      ],
      "text/plain": [
       "       HelpfulnessNumerator  HelpfulnessDenominator          Score  \\\n",
       "count         568454.000000            568454.00000  568454.000000   \n",
       "mean               1.743817                 2.22881       4.183199   \n",
       "std                7.636513                 8.28974       1.310436   \n",
       "min                0.000000                 0.00000       1.000000   \n",
       "25%                0.000000                 0.00000       4.000000   \n",
       "50%                0.000000                 1.00000       5.000000   \n",
       "75%                2.000000                 2.00000       5.000000   \n",
       "max              866.000000               923.00000       5.000000   \n",
       "\n",
       "               Time  \n",
       "count  5.684540e+05  \n",
       "mean   1.296257e+09  \n",
       "std    4.804331e+07  \n",
       "min    9.393408e+08  \n",
       "25%    1.271290e+09  \n",
       "50%    1.311120e+09  \n",
       "75%    1.332720e+09  \n",
       "max    1.351210e+09  "
      ]
     },
     "execution_count": 9,
     "metadata": {},
     "output_type": "execute_result"
    }
   ],
   "source": [
    "# data_file.describe(include=\"all\")\n",
    "data_file.describe()"
   ]
  },
  {
   "cell_type": "code",
   "execution_count": 11,
   "id": "41dc6588-cae6-43d9-aa86-217f208c63e3",
   "metadata": {},
   "outputs": [
    {
     "name": "stdout",
     "output_type": "stream",
     "text": [
      "No of duplicate rows in the dataset:  281\n",
      "Null values in the dataset:\n",
      "ProductId                  0\n",
      "UserId                     0\n",
      "ProfileName               26\n",
      "HelpfulnessNumerator       0\n",
      "HelpfulnessDenominator     0\n",
      "Score                      0\n",
      "Time                       0\n",
      "Summary                   27\n",
      "Text                       0\n",
      "dtype: int64\n"
     ]
    }
   ],
   "source": [
    "print(\"No of duplicate rows in the dataset: \",data_file.duplicated().sum())\n",
    "print(\"Null values in the dataset:\")\n",
    "print(data_file.isna().sum())"
   ]
  },
  {
   "cell_type": "code",
   "execution_count": 12,
   "id": "7233c497-0e27-4eef-b12d-e7b81bbdb7bc",
   "metadata": {},
   "outputs": [
    {
     "name": "stdout",
     "output_type": "stream",
     "text": [
      "Cleaned data after dropping the null values from the dataset: \n"
     ]
    },
    {
     "data": {
      "text/plain": [
       "ProductId                 0\n",
       "UserId                    0\n",
       "ProfileName               0\n",
       "HelpfulnessNumerator      0\n",
       "HelpfulnessDenominator    0\n",
       "Score                     0\n",
       "Time                      0\n",
       "Summary                   0\n",
       "Text                      0\n",
       "dtype: int64"
      ]
     },
     "execution_count": 12,
     "metadata": {},
     "output_type": "execute_result"
    }
   ],
   "source": [
    "non_null_df = data_file.dropna()\n",
    "print(\"Cleaned data after dropping the null values from the dataset: \")\n",
    "non_null_df.isna().sum()"
   ]
  },
  {
   "cell_type": "code",
   "execution_count": 15,
   "id": "9edc26c8-4cdb-42ad-ae68-d145e020b2f2",
   "metadata": {},
   "outputs": [],
   "source": [
    "#Sorting data according to ProductId in ascending order\n",
    "sorted_df = non_null_df.sort_values('ProductId', axis=0, ascending=True, inplace=False, kind='quicksort', na_position='last')"
   ]
  },
  {
   "cell_type": "code",
   "execution_count": 17,
   "id": "25ace97d-aff0-4db8-860c-b317e2a6f0d8",
   "metadata": {},
   "outputs": [
    {
     "name": "stdout",
     "output_type": "stream",
     "text": [
      "Number of duplicates in the subset: 174487\n"
     ]
    }
   ],
   "source": [
    "duplicate_df = non_null_df.duplicated(subset=[\"UserId\", \"ProfileName\", \"Time\", \"Text\"])\n",
    "print(f\"Number of duplicates in the subset: {duplicate_df.sum()}\")\n"
   ]
  },
  {
   "cell_type": "code",
   "execution_count": 19,
   "id": "47e8fc3a-b08a-4c57-946d-955132de2cac",
   "metadata": {},
   "outputs": [
    {
     "name": "stdout",
     "output_type": "stream",
     "text": [
      "Shape of the final data after removing duplicates: (393914, 9)\n"
     ]
    }
   ],
   "source": [
    "filtered_df = sorted_df.drop_duplicates(subset=[\"UserId\", \"ProfileName\", \"Time\", \"Text\"], keep='first', inplace=False)\n",
    "print(f\"Shape of the final data after removing duplicates: {filtered_df.shape}\")\n"
   ]
  },
  {
   "cell_type": "code",
   "execution_count": 21,
   "id": "0cdb47ed-e548-49e4-8304-615891a28a7b",
   "metadata": {},
   "outputs": [
    {
     "data": {
      "text/html": [
       "<div>\n",
       "<style scoped>\n",
       "    .dataframe tbody tr th:only-of-type {\n",
       "        vertical-align: middle;\n",
       "    }\n",
       "\n",
       "    .dataframe tbody tr th {\n",
       "        vertical-align: top;\n",
       "    }\n",
       "\n",
       "    .dataframe thead th {\n",
       "        text-align: right;\n",
       "    }\n",
       "</style>\n",
       "<table border=\"1\" class=\"dataframe\">\n",
       "  <thead>\n",
       "    <tr style=\"text-align: right;\">\n",
       "      <th></th>\n",
       "      <th>ProductId</th>\n",
       "      <th>UserId</th>\n",
       "      <th>ProfileName</th>\n",
       "      <th>HelpfulnessNumerator</th>\n",
       "      <th>HelpfulnessDenominator</th>\n",
       "      <th>Score</th>\n",
       "      <th>Time</th>\n",
       "      <th>Summary</th>\n",
       "      <th>Text</th>\n",
       "    </tr>\n",
       "  </thead>\n",
       "  <tbody>\n",
       "    <tr>\n",
       "      <th>150524</th>\n",
       "      <td>0006641040</td>\n",
       "      <td>A2QID6VCFTY51R</td>\n",
       "      <td>Rick</td>\n",
       "      <td>1</td>\n",
       "      <td>2</td>\n",
       "      <td>5</td>\n",
       "      <td>1025481600</td>\n",
       "      <td>In December it will be, my snowman's anniversa...</td>\n",
       "      <td>My daughter loves all the \"Really Rosie\" books...</td>\n",
       "    </tr>\n",
       "    <tr>\n",
       "      <th>150510</th>\n",
       "      <td>0006641040</td>\n",
       "      <td>A1C9K534BCI9GO</td>\n",
       "      <td>Laura Purdie Salas</td>\n",
       "      <td>0</td>\n",
       "      <td>0</td>\n",
       "      <td>4</td>\n",
       "      <td>1344211200</td>\n",
       "      <td>Charming and childlike</td>\n",
       "      <td>A charming, rhyming book that describes the ci...</td>\n",
       "    </tr>\n",
       "    <tr>\n",
       "      <th>150511</th>\n",
       "      <td>0006641040</td>\n",
       "      <td>A1DJXZA5V5FFVA</td>\n",
       "      <td>A. Conway</td>\n",
       "      <td>0</td>\n",
       "      <td>0</td>\n",
       "      <td>5</td>\n",
       "      <td>1338249600</td>\n",
       "      <td>Must have.</td>\n",
       "      <td>I set aside at least an hour each day to read ...</td>\n",
       "    </tr>\n",
       "    <tr>\n",
       "      <th>150512</th>\n",
       "      <td>0006641040</td>\n",
       "      <td>ASH0DZQQF6AIZ</td>\n",
       "      <td>tessarat</td>\n",
       "      <td>0</td>\n",
       "      <td>0</td>\n",
       "      <td>5</td>\n",
       "      <td>1325721600</td>\n",
       "      <td>A classic</td>\n",
       "      <td>I remembered this book from my childhood and g...</td>\n",
       "    </tr>\n",
       "    <tr>\n",
       "      <th>150513</th>\n",
       "      <td>0006641040</td>\n",
       "      <td>A2ONB6ZA292PA</td>\n",
       "      <td>Rosalind Matzner</td>\n",
       "      <td>0</td>\n",
       "      <td>0</td>\n",
       "      <td>5</td>\n",
       "      <td>1313884800</td>\n",
       "      <td>Chicken soup with Rice</td>\n",
       "      <td>It's a great book with adorable illustrations....</td>\n",
       "    </tr>\n",
       "  </tbody>\n",
       "</table>\n",
       "</div>"
      ],
      "text/plain": [
       "         ProductId          UserId         ProfileName  HelpfulnessNumerator  \\\n",
       "150524  0006641040  A2QID6VCFTY51R                Rick                     1   \n",
       "150510  0006641040  A1C9K534BCI9GO  Laura Purdie Salas                     0   \n",
       "150511  0006641040  A1DJXZA5V5FFVA           A. Conway                     0   \n",
       "150512  0006641040   ASH0DZQQF6AIZ            tessarat                     0   \n",
       "150513  0006641040   A2ONB6ZA292PA    Rosalind Matzner                     0   \n",
       "\n",
       "        HelpfulnessDenominator  Score        Time  \\\n",
       "150524                       2      5  1025481600   \n",
       "150510                       0      4  1344211200   \n",
       "150511                       0      5  1338249600   \n",
       "150512                       0      5  1325721600   \n",
       "150513                       0      5  1313884800   \n",
       "\n",
       "                                                  Summary  \\\n",
       "150524  In December it will be, my snowman's anniversa...   \n",
       "150510                             Charming and childlike   \n",
       "150511                                         Must have.   \n",
       "150512                                          A classic   \n",
       "150513                             Chicken soup with Rice   \n",
       "\n",
       "                                                     Text  \n",
       "150524  My daughter loves all the \"Really Rosie\" books...  \n",
       "150510  A charming, rhyming book that describes the ci...  \n",
       "150511  I set aside at least an hour each day to read ...  \n",
       "150512  I remembered this book from my childhood and g...  \n",
       "150513  It's a great book with adorable illustrations....  "
      ]
     },
     "execution_count": 21,
     "metadata": {},
     "output_type": "execute_result"
    }
   ],
   "source": [
    "cleaned_df = filtered_df.copy()\n",
    "cleaned_df.head()"
   ]
  },
  {
   "cell_type": "code",
   "execution_count": 23,
   "id": "091ff110-4717-42db-be99-90c4d0d3dd96",
   "metadata": {},
   "outputs": [
    {
     "name": "stdout",
     "output_type": "stream",
     "text": [
      "Number of duplicates in the subset: 174487\n"
     ]
    }
   ],
   "source": [
    "non_duplicate_df = cleaned_df.duplicated(subset=[\"UserId\", \"ProfileName\", \"Time\", \"Text\"])\n",
    "print(f\"Number of duplicates in the subset: {duplicate_df.sum()}\")\n"
   ]
  },
  {
   "cell_type": "code",
   "execution_count": 24,
   "id": "8842852c-7f70-460f-8d67-d9bbec0578dc",
   "metadata": {},
   "outputs": [
    {
     "data": {
      "text/plain": [
       "'My dogs love this product and this was the cheapest I could find it any where. Shipped and received as notified when purchased.'"
      ]
     },
     "execution_count": 24,
     "metadata": {},
     "output_type": "execute_result"
    }
   ],
   "source": [
    "cleaned_df[\"Text\"].values[88]"
   ]
  },
  {
   "cell_type": "markdown",
   "id": "d2617352-eeec-4603-b339-bde922643d09",
   "metadata": {},
   "source": [
    "# Exploratory Data Analysis"
   ]
  },
  {
   "cell_type": "code",
   "execution_count": 28,
   "id": "472a1300-7618-4664-940a-5fcc4db6cf4f",
   "metadata": {},
   "outputs": [
    {
     "data": {
      "text/plain": [
       "Score\n",
       "5    250956\n",
       "4     56086\n",
       "1     36304\n",
       "3     29770\n",
       "2     20798\n",
       "Name: count, dtype: int64"
      ]
     },
     "execution_count": 28,
     "metadata": {},
     "output_type": "execute_result"
    }
   ],
   "source": [
    "cleaned_df[\"Score\"].value_counts()"
   ]
  },
  {
   "cell_type": "code",
   "execution_count": 30,
   "id": "188abd51-5323-4670-8241-6f432fea3e0b",
   "metadata": {},
   "outputs": [
    {
     "data": {
      "image/png": "[encoded data removed]",
      "text/plain": [
       "<Figure size 1200x800 with 1 Axes>"
      ]
     },
     "metadata": {},
     "output_type": "display_data"
    }
   ],
   "source": [
    "# Calculate the value counts of the 'Score' column\n",
    "score_counts = cleaned_df[\"Score\"].value_counts().sort_index()\n",
    "\n",
    "# Create a new DataFrame for plotting\n",
    "score_counts_df = pd.DataFrame({'Score': score_counts.index, 'Count': score_counts.values})\n",
    "plt.figure(figsize=(12, 8))\n",
    "sns.barplot(x='Score', y='Count', hue='Score', data=score_counts_df, palette=\"viridis\")\n",
    "plt.xlabel(\"Review Score\")\n",
    "plt.ylabel(\"Count\")\n",
    "plt.title(\"Review Score Count\", fontweight='bold')\n",
    "plt.show()\n"
   ]
  },
  {
   "cell_type": "markdown",
   "id": "eff28345-80dd-4c95-91ed-2e7ba8c1641f",
   "metadata": {},
   "source": [
    "### Interpretation:\n",
    "The plot shows the distribution of review scores ranging from 1 to 5, with 5 being the highest and 1 the lowest.The y-axis represents the count of reviews, while the x-axis represents the review scores. Each bar is color-coded according to the score.\n",
    "\n",
    "### Observations:\n",
    "1. **High Positive Reviews**:\n",
    "    **Score 5** has the highest count, with approximately 250,000 reviews. This suggests that most reviews are highly positive, indicating customer satisfaction with many of the products.\n",
    "2. **Moderate Positive Reviews**:\n",
    "    **Score 4** comes in second, with around 50,000 reviews. This also indicates a positive sentiment but with some room for improvement.\n",
    "3. **Neutral Reviews**:\n",
    "    **Score 3** has approximately 29,000 reviews. These reviews are neutral, showing that customers had an average experience with the products.\n",
    "4. **Moderate Negative Reviews**:\n",
    "    **Score 2** has about 20,000 reviews. This suggests that these reviews express some dissatisfaction with the products.\n",
    "6. **Low Negative Reviews**:\n",
    "    **Score 1** has the lowest count, with approximately 5,000 reviews. This indicates that very few customers had a highly negative experience with the products.\n",
    "\n",
    "### Insights:\n",
    "The data suggests that most customers are satisfied with the products, as seen from the high counts for positive reviews (scores 4 and 5). There is a smaller proportion of negative reviews (scores 1 and 2), indicating that improvements could be targeted to address specific issues. The neutral reviews (score 3) provide an opportunity for businesses to identify areas for enhancement to convert these into higher satisfaction scores.\n",
    "\n"
   ]
  },
  {
   "cell_type": "code",
   "execution_count": 33,
   "id": "bb7d698c-2be7-4509-b390-0f76b4e20385",
   "metadata": {},
   "outputs": [],
   "source": [
    "# we will see the products brought by each customer\n",
    "purchases_data = cleaned_df[['ProductId','UserId']].groupby('UserId').agg({'ProductId': ['count']})\n",
    "purchases_data.columns = ['No_of_products_purchased']\n",
    "purchases_data = purchases_data.reset_index()"
   ]
  },
  {
   "cell_type": "code",
   "execution_count": 34,
   "id": "749856af-71c2-4c32-8bb8-ae7de9ba27d4",
   "metadata": {},
   "outputs": [
    {
     "data": {
      "image/png": "[encoded data removed]",
      "text/plain": [
       "<Figure size 500x500 with 1 Axes>"
      ]
     },
     "metadata": {},
     "output_type": "display_data"
    }
   ],
   "source": [
    "plt.figure(figsize=(5,5))\n",
    "purchases_data[\"No_of_products_purchased\"].hist()\n",
    "plt.title(\"Distribution of Purchases and User\", fontweight=\"bold\")\n",
    "plt.xlabel(\"No of purchases\")\n",
    "plt.ylabel(\"No of users\")\n",
    "plt.show()"
   ]
  },
  {
   "cell_type": "markdown",
   "id": "b79606e1-789a-4e64-9e7e-6ef15096968b",
   "metadata": {},
   "source": [
    "### Interpretation:\n",
    "The histogram plot shows the distribution of the number of products purchased by each customer.\n",
    "\n",
    "### Observations:\n",
    "1. **Purchase Distribution**:\n",
    "The majority of users have made 1 purchase. There is a significant drop-off in the number of users as the number of purchases increases.\n",
    "\n",
    "2. **Summary Statistics**:\n",
    "   - **Count**: There are a total of 256,042 users.\n",
    "   - **Mean**: On average, each user has purchased approximately 1.54 products.\n",
    "   - **Standard Deviation (Std)**: The standard deviation is about 2.76, indicating some variability in the number of purchases.\n",
    "   - **Minimum**: The minimum number of purchases by any user is 1.\n",
    "   - **25th Percentile (25%)**: 25% of users have made at least 1 purchase.\n",
    "   - **50th Percentile (Median/50%)**: 50% of users have made at least 1 purchase.\n",
    "   - **75th Percentile (75%)**: 75% of users have made at least 1 purchase.\n",
    "   - **Maximum**: The maximum number of purchases by any user is 329.\n",
    "\n",
    "### Insights:\n",
    "The histogram shows that most users have a relatively low number of purchases. The summary statistics provide a detailed understanding of the distribution, showing that while the average user makes around 1 purchase, some users make more."
   ]
  },
  {
   "cell_type": "code",
   "execution_count": 38,
   "id": "ce89e877-7a76-443b-98e1-45b51a1a2754",
   "metadata": {},
   "outputs": [
    {
     "name": "stdout",
     "output_type": "stream",
     "text": [
      "count    256042.000000\n",
      "mean          1.538474\n",
      "std           2.756671\n",
      "min           1.000000\n",
      "25%           1.000000\n",
      "50%           1.000000\n",
      "75%           1.000000\n",
      "max         329.000000\n",
      "Name: No_of_products_purchased, dtype: float64\n"
     ]
    }
   ],
   "source": [
    "print(purchases_data['No_of_products_purchased'].describe())"
   ]
  },
  {
   "cell_type": "code",
   "execution_count": 40,
   "id": "38352194-b8b0-455b-b0ac-70c385f676cd",
   "metadata": {},
   "outputs": [],
   "source": [
    "cleaned_df[\"usefulness\"] = cleaned_df[\"HelpfulnessNumerator\"] / cleaned_df[\"HelpfulnessDenominator\"]"
   ]
  },
  {
   "cell_type": "code",
   "execution_count": 42,
   "id": "a90d5ae1-fcbc-41ab-8af0-1a4d493a1091",
   "metadata": {},
   "outputs": [],
   "source": [
    "# Define the usefulness categories\n",
    "usefulness = []\n",
    "\n",
    "for i in cleaned_df[\"usefulness\"]:\n",
    "    if i > 0.75:\n",
    "        usefulness.append(\">75%\")\n",
    "    elif i < 0.25:\n",
    "        usefulness.append(\"<25%\")\n",
    "    else:\n",
    "        usefulness.append(\"25% - 75%\")\n",
    "\n",
    "# Assign the categorized list back to the dataframe\n",
    "cleaned_df[\"usefulness\"] = usefulness\n"
   ]
  },
  {
   "cell_type": "code",
   "execution_count": 44,
   "id": "66eeebaf-16c7-4ee1-8362-317ed9d6e32d",
   "metadata": {
    "scrolled": true
   },
   "outputs": [
    {
     "data": {
      "image/png": "[encoded data removed]",
      "text/plain": [
       "<Figure size 1200x800 with 1 Axes>"
      ]
     },
     "metadata": {},
     "output_type": "display_data"
    }
   ],
   "source": [
    "plt.figure(figsize=(12, 8))\n",
    "sns.countplot(x='usefulness', hue='usefulness', data=cleaned_df, order=[\">75%\", \"25% - 75%\", \"<25%\"], palette=\"viridis\")\n",
    "plt.title(\"Distribution of Helpfulness\", fontweight=\"bold\")\n",
    "plt.xlabel('Usefulness')\n",
    "plt.ylabel('Count')\n",
    "plt.show()"
   ]
  },
  {
   "cell_type": "markdown",
   "id": "a75a53d1-a356-442c-8eba-f31dc9fc781e",
   "metadata": {},
   "source": [
    "### Interpretation:\n",
    "The bar chart displays the count of helpfulness ratings divided into three categories: **\">75%\"**, **\"25% - 75%\"**, and **\"<25%\"**. The categories are based on the percentage of helpfulness calculated from the `HelpfulnessNumerator` and `HelpfulnessDenominator`.\n",
    "\n",
    "### Observations:\n",
    "1. **High Helpfulness Ratings**:\n",
    "The `\">75%\"` category has a notable count, indicating a significant number of reviews were found highly helpful by users. This suggests that many reviews are providing valuable information to potential buyers.\n",
    "\n",
    "2. **Moderate Helpfulness Ratings**:\n",
    "The `\"25% - 75%\"` category has the highest count among the three, showing that a large number of reviews fall into this range of perceived helpfulness. This indicates that while these reviews are somewhat helpful, there is room for improvement in their content or clarity.\n",
    "\n",
    "3. **Low Helpfulness Ratings**:\n",
    "The `\"<25%\"` category has the lowest count, suggesting that fewer reviews are found to be of little help by users. This implies that most reviews are at least somewhat useful to readers.\n",
    "\n",
    "### Insights:\n",
    "The high count in the `\"25% - 75%\"` category highlights the importance of continually improving review quality to enhance user experience. The presence of many highly helpful reviews (`\">75%\"` category) indicates that valuable feedback is being provided, which can influence purchasing decisions positively. The relatively lower count in the `\"<25%\"` category suggests that the majority of reviews are making a positive contribution to the information available to potential buyers."
   ]
  },
  {
   "cell_type": "code",
   "execution_count": 47,
   "id": "601fe890-ca52-4245-a912-bfca51102f92",
   "metadata": {},
   "outputs": [
    {
     "data": {
      "text/plain": [
       "usefulness\n",
       "25% - 75%    223356\n",
       ">75%         144906\n",
       "<25%          25652\n",
       "Name: count, dtype: int64"
      ]
     },
     "execution_count": 47,
     "metadata": {},
     "output_type": "execute_result"
    }
   ],
   "source": [
    "cleaned_df[\"usefulness\"].value_counts()"
   ]
  },
  {
   "cell_type": "code",
   "execution_count": 49,
   "id": "462d7718-ddd2-49e7-9148-39b1634f343f",
   "metadata": {},
   "outputs": [
    {
     "data": {
      "image/png": "[encoded data removed]",
      "text/plain": [
       "<Figure size 1000x800 with 1 Axes>"
      ]
     },
     "metadata": {},
     "output_type": "display_data"
    }
   ],
   "source": [
    "plt.figure(figsize=(10,8))\n",
    "sns.countplot(x=\"Score\",data=cleaned_df,hue=\"usefulness\",hue_order=[\">75%\",\"25% - 75%\",\"<25%\"], order=[5,4,3,2,1], palette=\"viridis\")\n",
    "plt.xticks(rotation=90,fontsize=10)\n",
    "plt.title(\"COMPARING THE SCORE WITH USEFULNESS\", fontweight=\"bold\")\n",
    "plt.show()"
   ]
  },
  {
   "cell_type": "markdown",
   "id": "936f377a-c439-436c-8865-9739b4267ec3",
   "metadata": {},
   "source": [
    "### Interpretation:\n",
    "The bar plot visualizes the count of different \"Score\" values from the Amazon Fine Food Reviews dataset, categorized by the \"usefulness\" levels: **\">75%\"**, **\"25% - 75%\"**, and **\"<25%\"**.\n",
    "\n",
    "### Observations:\n",
    "1. **High Helpfulness Ratings**:\n",
    "The `\">75%\"` category shows the highest count across most scores, indicating that a significant number of reviews were found highly helpful by users. This suggests that many reviews provide valuable information to potential buyers.\n",
    "\n",
    "2. **Moderate Helpfulness Ratings**:\n",
    "The `\"25% - 75%\"` category has the second-highest count, showing that a large number of reviews fall into this range of perceived helpfulness. This indicates that while these reviews are somewhat helpful, there is room for improvement in their content or clarity.\n",
    "\n",
    "4. **Low Helpfulness Ratings**:\n",
    "The `\"<25%\"` category shows the lowest count, suggesting that fewer reviews are considered to be of little help by users. This implies that most reviews are at least somewhat useful to readers.\n",
    "\n",
    "### Insights:\n",
    "The high count in the `\"25% - 75%\"` and `\">75%\"` categories highlights the importance of continually improving review quality to enhance user experience. The presence of many highly helpful reviews (`\">75%\"` category) indicates that valuable feedback is being provided, which can positively influence purchasing decisions. The relatively lower count in the `\"<25%\"` category suggests that the majority of reviews are making a positive contribution to the information available to potential buyers."
   ]
  },
  {
   "cell_type": "code",
   "execution_count": 52,
   "id": "6702e812-27dd-4c70-b347-ca80fec1a510",
   "metadata": {},
   "outputs": [],
   "source": [
    "# Calculate word count for each review\n",
    "cleaned_df[\"word_count\"] = cleaned_df[\"Text\"].apply(lambda x: len(x.split()))"
   ]
  },
  {
   "cell_type": "code",
   "execution_count": 53,
   "id": "73da4145-2891-4974-bcf1-cfde6968fe64",
   "metadata": {},
   "outputs": [
    {
     "data": {
      "image/png": "[encoded data removed]",
      "text/plain": [
       "<Figure size 1200x800 with 1 Axes>"
      ]
     },
     "metadata": {},
     "output_type": "display_data"
    }
   ],
   "source": [
    "# Boxplot: Comparing the Score with Word Count\n",
    "plt.figure(figsize=(12, 8))\n",
    "sns.boxplot(x=\"Score\", y=\"word_count\", hue=\"Score\", data=cleaned_df, showfliers=False, palette=\"viridis\")\n",
    "plt.xticks(rotation=90, fontsize=10)\n",
    "plt.title(\"Comparing the Score with Word Count\", fontweight=\"bold\")\n",
    "plt.xlabel(\"Score\")\n",
    "plt.ylabel(\"Word Count\")\n",
    "plt.show()\n",
    "\n"
   ]
  },
  {
   "cell_type": "markdown",
   "id": "c0ec75b6-d1c0-4cad-a895-3fe49ff9e5dd",
   "metadata": {},
   "source": [
    "### Interpretation:\n",
    "The box plot visualizes the distribution of word counts for different review scores (1 to 5).\n",
    "\n",
    "### Observations:\n",
    "1. **Word Count Distribution**:\n",
    "Each box plot represents the range of word counts for reviews with scores from 1 to 5. The central line in each box indicates the median word count for the respective score. The boxes represent the interquartile range (IQR) where the middle 50% of word counts lie.\n",
    "\n",
    "3. **Score-Wise Word Counts**:\n",
    "   - **Score 1**: Reviews with a score of 1 tend to have lower word counts. The median word count is relatively low, and the overall distribution is more compact.\n",
    "   - **Score 2**: Reviews with a score of 2 show a slightly wider distribution than score 1, with a higher median word count.\n",
    "   - **Score 3**: Reviews with a score of 3 have a wider distribution and higher median word count compared to scores 1 and 2.\n",
    "   - **Score 4**: Reviews with a score of 4 show a similar distribution to score 3 but with a slightly higher median word count.\n",
    "   - **Score 5**: Reviews with a score of 5 have the widest distribution and the highest median word count, indicating that highly positive reviews tend to be more detailed.\n",
    "\n",
    "### Insights:\n",
    "The word count tends to increase with higher review scores. Reviews with scores of 4 and 5 are generally longer and more detailed. Reviews with lower scores (1 and 2) tend to be shorter, which might indicate that negative reviews are often brief and to the point. The variation in word count across different scores can provide insights into the nature of customer feedback—positive reviews might be more descriptive, while negative reviews could be more succinct."
   ]
  },
  {
   "cell_type": "code",
   "execution_count": 55,
   "id": "62d2fd88-4308-4310-9c0e-e585cbf96816",
   "metadata": {},
   "outputs": [
    {
     "data": {
      "image/png": "[encoded data removed]",
      "text/plain": [
       "<Figure size 1200x800 with 1 Axes>"
      ]
     },
     "metadata": {},
     "output_type": "display_data"
    }
   ],
   "source": [
    "# Violinplot: Comparing the Usefulness with Word Count\n",
    "plt.figure(figsize=(12, 8))\n",
    "sns.violinplot(x=\"usefulness\", y=\"word_count\", hue=\"usefulness\", data=cleaned_df,\n",
    "               order=[\">75%\", \"<25%\"], palette=\"viridis\")\n",
    "plt.ylim(-50, 400)\n",
    "plt.title(\"Comparing the Usefulness with Word Count\", fontweight=\"bold\")\n",
    "plt.xlabel(\"Usefulness\")\n",
    "plt.ylabel(\"Word Count\")\n",
    "plt.show()"
   ]
  },
  {
   "cell_type": "markdown",
   "id": "57736d2a-47d3-4e39-9284-2e4674267041",
   "metadata": {},
   "source": [
    "### Interpretation:\n",
    "The violin plot visualizes the distribution of word counts for two categories of review usefulness: **\">75%\"** and **\"<25%\"**.\n",
    "\n",
    "### Observations:\n",
    "1. **Word Count Distribution**:\n",
    "Each violin represents the range and distribution of word counts for the two usefulness categories. The green violin represents usefulness greater than 75%, while the blue violin represents usefulness less than 25%.\n",
    "\n",
    "2. **High Usefulness Reviews (\">75%\")**:\n",
    "The distribution is wider and more spread out, indicating a larger variation in word counts. The median word count is higher compared to the low usefulness category, suggesting that highly useful reviews tend to be more detailed and longer.\n",
    "\n",
    "3. **Low Usefulness Reviews (\"<25%\")**:\n",
    "The distribution is more compact, indicating less variation in word counts. The median word count is lower compared to the high usefulness category, suggesting that less useful reviews are generally shorter.\n",
    "\n",
    "### Insights:\n",
    "Reviews deemed more useful (usefulness > 75%) tend to have higher word counts, indicating that detailed and longer reviews are often considered more helpful by users. Reviews deemed less useful (usefulness < 25%) tend to have lower word counts, indicating that shorter reviews are often considered less helpful. Understanding the characteristics of useful reviews can help businesses and users improve the quality of their feedback and provide more valuable information to potential buyers."
   ]
  },
  {
   "cell_type": "markdown",
   "id": "9edf143c-8dbc-44d2-ac73-656b84e4c6df",
   "metadata": {},
   "source": [
    "# Analysis on Score (Target)"
   ]
  },
  {
   "cell_type": "code",
   "execution_count": 60,
   "id": "294c98a2-2105-40a5-bf65-864e8df85383",
   "metadata": {},
   "outputs": [
    {
     "data": {
      "text/plain": [
       "(364144, 11)"
      ]
     },
     "execution_count": 60,
     "metadata": {},
     "output_type": "execute_result"
    }
   ],
   "source": [
    "# removing the neutral score rows\n",
    "cleaned_df = cleaned_df[cleaned_df[\"Score\"] != 3] \n",
    "\n",
    "cleaned_df.shape"
   ]
  },
  {
   "cell_type": "code",
   "execution_count": 63,
   "id": "9d90b471-ece1-4007-9f80-00657a5862fb",
   "metadata": {},
   "outputs": [],
   "source": [
    "cleaned_df.loc[:, \"Score\"] = cleaned_df[\"Score\"].apply(lambda x: 1 if x >= 4 else 0)"
   ]
  },
  {
   "cell_type": "code",
   "execution_count": 65,
   "id": "2bbe9cc8-0eff-41b7-9c3d-d614544d2688",
   "metadata": {},
   "outputs": [
    {
     "data": {
      "text/html": [
       "<div>\n",
       "<style scoped>\n",
       "    .dataframe tbody tr th:only-of-type {\n",
       "        vertical-align: middle;\n",
       "    }\n",
       "\n",
       "    .dataframe tbody tr th {\n",
       "        vertical-align: top;\n",
       "    }\n",
       "\n",
       "    .dataframe thead th {\n",
       "        text-align: right;\n",
       "    }\n",
       "</style>\n",
       "<table border=\"1\" class=\"dataframe\">\n",
       "  <thead>\n",
       "    <tr style=\"text-align: right;\">\n",
       "      <th></th>\n",
       "      <th>ProductId</th>\n",
       "      <th>UserId</th>\n",
       "      <th>ProfileName</th>\n",
       "      <th>HelpfulnessNumerator</th>\n",
       "      <th>HelpfulnessDenominator</th>\n",
       "      <th>Score</th>\n",
       "      <th>Time</th>\n",
       "      <th>Summary</th>\n",
       "      <th>Text</th>\n",
       "      <th>usefulness</th>\n",
       "      <th>word_count</th>\n",
       "    </tr>\n",
       "  </thead>\n",
       "  <tbody>\n",
       "    <tr>\n",
       "      <th>157157</th>\n",
       "      <td>B0035DUVCQ</td>\n",
       "      <td>AWNQ2Y9BYC13H</td>\n",
       "      <td>Edward</td>\n",
       "      <td>1</td>\n",
       "      <td>1</td>\n",
       "      <td>1</td>\n",
       "      <td>1320969600</td>\n",
       "      <td>Round and Round it goes</td>\n",
       "      <td>Works great, looks good next to the machine.  ...</td>\n",
       "      <td>&gt;75%</td>\n",
       "      <td>29</td>\n",
       "    </tr>\n",
       "    <tr>\n",
       "      <th>517355</th>\n",
       "      <td>B004984G40</td>\n",
       "      <td>A1Y67FIADSK44P</td>\n",
       "      <td>Marian Carcache</td>\n",
       "      <td>1</td>\n",
       "      <td>1</td>\n",
       "      <td>1</td>\n",
       "      <td>1326499200</td>\n",
       "      <td>Hello Beautiful</td>\n",
       "      <td>Delicious, especially the chocolate. The vanil...</td>\n",
       "      <td>&gt;75%</td>\n",
       "      <td>26</td>\n",
       "    </tr>\n",
       "    <tr>\n",
       "      <th>514608</th>\n",
       "      <td>B000CROPGG</td>\n",
       "      <td>A89NM7E2JGRFF</td>\n",
       "      <td>PSaint \"PSaint\"</td>\n",
       "      <td>6</td>\n",
       "      <td>6</td>\n",
       "      <td>1</td>\n",
       "      <td>1203724800</td>\n",
       "      <td>Bear Naked Vanilla Almond Crunch</td>\n",
       "      <td>I never dreamed I would purchase cereal on lin...</td>\n",
       "      <td>&gt;75%</td>\n",
       "      <td>137</td>\n",
       "    </tr>\n",
       "    <tr>\n",
       "      <th>381553</th>\n",
       "      <td>B0000DGG8D</td>\n",
       "      <td>AJTFPL7NSDMF3</td>\n",
       "      <td>Karen A. Knapp</td>\n",
       "      <td>2</td>\n",
       "      <td>3</td>\n",
       "      <td>0</td>\n",
       "      <td>1275436800</td>\n",
       "      <td>Brussel's Crepe Myrtle Bonsai</td>\n",
       "      <td>&lt;a href=\"http://www.amazon.com/gp/product/B000...</td>\n",
       "      <td>25% - 75%</td>\n",
       "      <td>105</td>\n",
       "    </tr>\n",
       "    <tr>\n",
       "      <th>166595</th>\n",
       "      <td>B002AMXQNY</td>\n",
       "      <td>A3OIFUH1BW15HP</td>\n",
       "      <td>LG</td>\n",
       "      <td>0</td>\n",
       "      <td>0</td>\n",
       "      <td>1</td>\n",
       "      <td>1328572800</td>\n",
       "      <td>Best coffee I've ever tasted</td>\n",
       "      <td>Makes Starbucks &amp; Dunkin Donuts seem like junk...</td>\n",
       "      <td>25% - 75%</td>\n",
       "      <td>84</td>\n",
       "    </tr>\n",
       "    <tr>\n",
       "      <th>181948</th>\n",
       "      <td>B0009F3POY</td>\n",
       "      <td>A1BG34P716MOQT</td>\n",
       "      <td>Beth A. Heldmann</td>\n",
       "      <td>6</td>\n",
       "      <td>7</td>\n",
       "      <td>1</td>\n",
       "      <td>1206403200</td>\n",
       "      <td>working mother's must-have</td>\n",
       "      <td>This tea really works!  I went back to work wh...</td>\n",
       "      <td>&gt;75%</td>\n",
       "      <td>57</td>\n",
       "    </tr>\n",
       "    <tr>\n",
       "      <th>474418</th>\n",
       "      <td>B003SBZC1U</td>\n",
       "      <td>A2IAHIO9LCK1VO</td>\n",
       "      <td>Karen \"Karen of Northern Michigan\"</td>\n",
       "      <td>0</td>\n",
       "      <td>0</td>\n",
       "      <td>1</td>\n",
       "      <td>1350000000</td>\n",
       "      <td>Next best thing to real coca cola...</td>\n",
       "      <td>I love coca cola, but started eating the low c...</td>\n",
       "      <td>25% - 75%</td>\n",
       "      <td>196</td>\n",
       "    </tr>\n",
       "    <tr>\n",
       "      <th>200825</th>\n",
       "      <td>B004N5HL0A</td>\n",
       "      <td>ANFQPAT5AOMCS</td>\n",
       "      <td>J. Hedgepeth</td>\n",
       "      <td>2</td>\n",
       "      <td>4</td>\n",
       "      <td>1</td>\n",
       "      <td>1321660800</td>\n",
       "      <td>Good, but not big on Reese's Pieces</td>\n",
       "      <td>This was price great. I love Reese's, so this ...</td>\n",
       "      <td>25% - 75%</td>\n",
       "      <td>44</td>\n",
       "    </tr>\n",
       "  </tbody>\n",
       "</table>\n",
       "</div>"
      ],
      "text/plain": [
       "         ProductId          UserId                         ProfileName  \\\n",
       "157157  B0035DUVCQ   AWNQ2Y9BYC13H                              Edward   \n",
       "517355  B004984G40  A1Y67FIADSK44P                     Marian Carcache   \n",
       "514608  B000CROPGG   A89NM7E2JGRFF                     PSaint \"PSaint\"   \n",
       "381553  B0000DGG8D   AJTFPL7NSDMF3                      Karen A. Knapp   \n",
       "166595  B002AMXQNY  A3OIFUH1BW15HP                                  LG   \n",
       "181948  B0009F3POY  A1BG34P716MOQT                    Beth A. Heldmann   \n",
       "474418  B003SBZC1U  A2IAHIO9LCK1VO  Karen \"Karen of Northern Michigan\"   \n",
       "200825  B004N5HL0A   ANFQPAT5AOMCS                        J. Hedgepeth   \n",
       "\n",
       "        HelpfulnessNumerator  HelpfulnessDenominator  Score        Time  \\\n",
       "157157                     1                       1      1  1320969600   \n",
       "517355                     1                       1      1  1326499200   \n",
       "514608                     6                       6      1  1203724800   \n",
       "381553                     2                       3      0  1275436800   \n",
       "166595                     0                       0      1  1328572800   \n",
       "181948                     6                       7      1  1206403200   \n",
       "474418                     0                       0      1  1350000000   \n",
       "200825                     2                       4      1  1321660800   \n",
       "\n",
       "                                     Summary  \\\n",
       "157157               Round and Round it goes   \n",
       "517355                       Hello Beautiful   \n",
       "514608      Bear Naked Vanilla Almond Crunch   \n",
       "381553         Brussel's Crepe Myrtle Bonsai   \n",
       "166595          Best coffee I've ever tasted   \n",
       "181948            working mother's must-have   \n",
       "474418  Next best thing to real coca cola...   \n",
       "200825   Good, but not big on Reese's Pieces   \n",
       "\n",
       "                                                     Text usefulness  \\\n",
       "157157  Works great, looks good next to the machine.  ...       >75%   \n",
       "517355  Delicious, especially the chocolate. The vanil...       >75%   \n",
       "514608  I never dreamed I would purchase cereal on lin...       >75%   \n",
       "381553  <a href=\"http://www.amazon.com/gp/product/B000...  25% - 75%   \n",
       "166595  Makes Starbucks & Dunkin Donuts seem like junk...  25% - 75%   \n",
       "181948  This tea really works!  I went back to work wh...       >75%   \n",
       "474418  I love coca cola, but started eating the low c...  25% - 75%   \n",
       "200825  This was price great. I love Reese's, so this ...  25% - 75%   \n",
       "\n",
       "        word_count  \n",
       "157157          29  \n",
       "517355          26  \n",
       "514608         137  \n",
       "381553         105  \n",
       "166595          84  \n",
       "181948          57  \n",
       "474418         196  \n",
       "200825          44  "
      ]
     },
     "execution_count": 65,
     "metadata": {},
     "output_type": "execute_result"
    }
   ],
   "source": [
    "cleaned_df.sample(8)"
   ]
  },
  {
   "cell_type": "code",
   "execution_count": 67,
   "id": "97c34828-3452-43b3-bed5-1790c4b82bc2",
   "metadata": {},
   "outputs": [
    {
     "data": {
      "image/png": "[encoded data removed]",
      "text/plain": [
       "<Figure size 1000x800 with 1 Axes>"
      ]
     },
     "metadata": {},
     "output_type": "display_data"
    }
   ],
   "source": [
    "plt.figure(figsize=(10, 8))\n",
    "sns.countplot(x='Score', hue='Score', data=cleaned_df, palette=\"viridis\")\n",
    "plt.xlabel(\"Review Score\")\n",
    "plt.ylabel(\"Count\")\n",
    "plt.title(\"Target\",fontweight=\"bold\")\n",
    "\n",
    "# Show the plot\n",
    "plt.show()"
   ]
  },
  {
   "cell_type": "markdown",
   "id": "94f0b43c-c2d1-4914-a820-c315f090313c",
   "metadata": {},
   "source": [
    "### Interpretation:\n",
    "The bar plot visualizes the distribution of review scores, where 0 represents negative reviews and 1 represents positive reviews, from the Amazon Fine Food Reviews dataset.\n",
    "\n",
    "### Observations:\n",
    "1. **Positive Reviews (Score 1)**:\n",
    "The bar for score 1 is significantly taller, indicating a higher count of positive reviews. This suggests that the majority of reviews are positive, reflecting overall customer satisfaction with the food products.\n",
    "\n",
    "2. **Negative Reviews (Score 0)**:\n",
    "The bar for score 0 is shorter, indicating a lower count of negative reviews. This suggests that there are fewer negative reviews, which is a good sign for the products being reviewed.\n",
    "\n",
    "### Insights:\n",
    "The predominance of positive reviews highlights that customers generally have a favorable opinion of the food products. The relatively lower count of negative reviews indicates that most customers are satisfied, but there may still be areas for improvement to address the concerns of those who left negative feedback.\n",
    "\n",
    "### Summary:\n",
    "The bar plot effectively shows the distribution of review scores, revealing a strong positive sentiment among the majority of customers."
   ]
  },
  {
   "cell_type": "code",
   "execution_count": 70,
   "id": "54c88afb-8395-44b2-9c25-d9c83d8e51f2",
   "metadata": {},
   "outputs": [],
   "source": [
    "# saving the dataframe to csv file \n",
    "cleaned_df.to_csv(\"../Amazon Fine Food ML Project/Data/cleaned_data.csv\", index=False)"
   ]
  },
  {
   "cell_type": "code",
   "execution_count": null,
   "id": "6ca6442b-c775-44ba-8bcf-47d8307cec74",
   "metadata": {},
   "outputs": [],
   "source": []
  }
 ],
 "metadata": {
  "kernelspec": {
   "display_name": "Python [conda env:base] *",
   "language": "python",
   "name": "conda-base-py"
  },
  "language_info": {
   "codemirror_mode": {
    "name": "ipython",
    "version": 3
   },
   "file_extension": ".py",
   "mimetype": "text/x-python",
   "name": "python",
   "nbconvert_exporter": "python",
   "pygments_lexer": "ipython3",
   "version": "3.12.7"
  }
 },
 "nbformat": 4,
 "nbformat_minor": 5
}
